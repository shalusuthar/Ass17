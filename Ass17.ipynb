{
 "cells": [
  {
   "cell_type": "markdown",
   "id": "11585387-5d34-47ff-8dcb-d6045c10a959",
   "metadata": {},
   "source": [
    "Q1. What is Web Scraping? Why is it Used? Give three areas where Web Scraping is used to get data.\n",
    "\n",
    "Ans. Web scraping refers to the extraction of data from a website. This information is collected and then exported into a format that is more useful for the user. Be it a spreadsheet or an API.Web scraping is the process of using bots to extract content and data from a website.\n",
    "\n",
    "Web scraping can help companies gather the correct contact information from their target market—including names, job titles, email addresses, and cellphone numbers. Then, they can reach out to these contacts and generate more leads and sales for their business.\n",
    "\n",
    "1.Price Monitoring. Web Scraping can be used by companies to scrap the product data for their products and competing products as well to see how it impacts their pricing strategies. \n",
    "\n",
    "2.Market Research. \n",
    "\n",
    "3.Sentiment analysis."
   ]
  },
  {
   "cell_type": "code",
   "execution_count": null,
   "id": "1a8293c6-0f98-4d0a-96e8-466a20ddde45",
   "metadata": {},
   "outputs": [],
   "source": []
  },
  {
   "cell_type": "markdown",
   "id": "8d417110-87a1-45ab-9bd3-ab2a4d7432db",
   "metadata": {},
   "source": [
    "Q2. What are the different methods used for Web Scraping?\n",
    "\n",
    "Ans. 7 Best Python Libraries For Web Scraping. \n",
    "\n",
    "1.BeautifulSoup Python Scraping Library. \n",
    "\n",
    "2.Scrapy- Python Web Scraping Library. \n",
    "\n",
    "3.Selenium Web Scraping Python Library. \n",
    "\n",
    "4.Requests. \n",
    "\n",
    "5.Urllib3 Python Library for Web Scraping. \n",
    "\n",
    "6.Lxml. \n",
    "\n",
    "7.MechanicalSoup.\n",
    "\n"
   ]
  },
  {
   "cell_type": "code",
   "execution_count": null,
   "id": "1abfe1b9-7369-433d-b8f5-57e75a8d2dc1",
   "metadata": {},
   "outputs": [],
   "source": []
  },
  {
   "cell_type": "markdown",
   "id": "f5dff5c6-6b2f-4677-9ae4-0c6219bd996c",
   "metadata": {},
   "source": [
    "Q3. What is Beautiful Soup? Why is it used?\n",
    "\n",
    "Ans. Beautiful Soup is a Python package for parsing HTML and XML documents (including having malformed markup, i.e. non-closed tags, so named after tag soup). It creates a parse tree for parsed pages that can be used to extract data from HTML, which is useful for web scraping."
   ]
  },
  {
   "cell_type": "code",
   "execution_count": null,
   "id": "60f5fc7e-1012-4c39-900f-50855627df4a",
   "metadata": {},
   "outputs": [],
   "source": []
  },
  {
   "cell_type": "markdown",
   "id": "8501c9ab-fe7e-485f-b8b4-76759f57a9ad",
   "metadata": {},
   "source": [
    "Q4. Why is flask used in this Web Scraping project?\n",
    "\n",
    "Ans. Flask is a lightweight framework to build websites. We'll use this to parse our collected data and display it as HTML in a new HTML file. The requests module allows us to send http requests to the website we want to scrape. The first line imports the Flask class and the render_template method from the flask library."
   ]
  },
  {
   "cell_type": "code",
   "execution_count": null,
   "id": "38d4e9d5-092e-4088-a575-79c20533118e",
   "metadata": {},
   "outputs": [],
   "source": []
  },
  {
   "cell_type": "markdown",
   "id": "cf6a9ffc-e8fb-4e33-8a35-f9e5fb538d54",
   "metadata": {},
   "source": [
    "Q5. Write the names of AWS services used in this project. Also, explain the use of each service.\n",
    "\n",
    "Ans. 1. Amazon EC2 (Elastic Cloud Compute)\n",
    "\n",
    "Amazon EC2 is the fastest cloud computing service provided by AWS. It offers virtual, secure, reliable, and resizable servers for any workload. Through this service, it becomes easy for developers to access resources and also facilitates web-scale cloud computing. This comes with the best suitable processors, networking facilities, and storage systems. Developers can quickly and dynamically scale capacities as per business needs. It has over 500 instances and you can also choose the latest processor, operating system, storage, and networking to help you choose according to the needs of the business. Also, with Amazon EC2, you only have to pay for what you use, and also as per the time period, scale with amazon EC2 auto-scaling has optimal storage and can optimize CPU configurations.\n",
    "\n",
    "2. Amazon RDS (Relational Database sevices)\n",
    "Amazon RDS (Relational Database Service) is another service provided by AWS which is a managed database for PostgreSQL, MariaDB, MySQL, and Oracle. Using Amazon RDS, you can set up, operate, and scale databases in the cloud. It provides high performance by automating the tasks like database setup, hardware provisioning, patching, and backups. Also, it helps in cost optimization by providing high availability, compatibility, and security for resources, and there’s no need to install and manage the database software. during its usage. As per the need, you can easily choose any engine out of 15+ engines some of them being MySQL, PostgreSQL, Oracle, etc. It is a highly secure and easily available AWS service.\n",
    "\n",
    "3. Amazon S3 (Simple Storage Service)\n",
    "With Amazon, it has become easy to store data anytime, anywhere. Amazon S3 (Simple Storage Service), one of the best services provided by AWS is an object storage service offering scalability, availability, security, and high-performing. You can also retrieve data, data here is stored in “storage classes” where there’s no requirement of extra investment and you can also manage it well. Amazon S3 is the perfect fit for big businesses where a large amount of data is managed for varied purposes. It comes with handling any volume of data with its robust access controls, and replication tools prevent accidental deletion, and also maintains data version controls. \n",
    "\n",
    "4. Amazon IAM (Identity and Access Management)\n",
    "Amazon IAM (Identity and Access Management) allows users to securely access and manage resources. To achieve complete access to the tools and resources provided by AWS, AWS IAM is the best AWS service. It gives you the right to have control over who has authorization (signed in) and authentication (has permissions) access to the resources. It comes with attribute-based access control which helps you to create separate permissions on the basis of the user’s attributes such as job role, department, etc. Through this, you can allow or deny access given to users. AWS IAM has complete access or is a central manager for refining permissions across AWS. He/She handles who can access what.\n",
    "\n",
    "5. Amazon EBS (Elastic Block Store)\n",
    "Amazon EBS is the next service provided by AWS which is a block storage solution specifically designed for Amazon EC2. Throughout a workload of any size, Amazon EBS helps to securely manage transactions. You can handle diverse workloads, be it relational, non-relational, or business applications. You get to choose between five different volume types so as to achieve effectiveness and optimum cost. It helps to resize workloads for big data analytics engines such as Hadoop and Spark. Its lifecycle management creates policies to create and manage backups effectively. It supports high-performance scaling workloads such as Microsoft, and SAP products. \n",
    "\n",
    "6. Amazon Lambda\n",
    "Another promising service by AWS is Amazon Lambda which is a serverless and event-driven computing service that lets you run code for virtual applications or backend services automatically. You need to worry about servers and clusters when working with solutions using Amazon Lambda. It is also cost-effective where you have to only pay for the services you use. As a user, your responsibility is to just upload the code and Lambda handles the rest. Using Lambda, you get precise software scaling and extensive availability. With hundreds to thousands of workloads per second, AWS Lambda responsibly handles code execution requests. It is one of the best services provided by AWS for developers.\n",
    "\n",
    "7. Amazon EFS (Elastic File System)\n",
    "Amazon EFS (Elastic File System) is a simple and serverless system where you can create and configure file systems without provisioning, deploying, patching, and maintaining. It is a scalable NFS file system made for use in AWS cloud services and on-premises resources. Also, it has no minimum fee or setup charge. You pay for the storage you use such as – \n",
    "\n",
    "for provisioned throughput\n",
    "automatically expand and shrink as per the addition and removal of files\n",
    "read and write access to data stored in Infrequent Access storage classes\n",
    "It is a scalable service where you can scale up to petabytes without thinking about the performance of the application. \n",
    "\n",
    "8. Amazon CloudFront\n",
    "Amazon CloudFront is an AWS service for content delivery networks, it delivers content globally, offering high performance and security and also at high transfer speeds and low latency(rate of time). It uses automated network mapping and intelligent routing mechanisms for delivering content to the destination. It has edge locations (worldwide network of data centers) used during content delivery. Using traffic encryptions and access controls, you can also enhance the security of data. It seamlessly integrates with systems like Amazon S3, Amazon EC2, and Lambda to manage custom code. Also, there’s no additional data transfer fee when connected with Amazon S3 and Amazon EC2.\n",
    "\n",
    "9. Amazon SNS (Simple Notification Service)\n",
    "It is a web service provided by AWS, which is a fully managed solution for messaging having low-cost infrastructure. It is used for bulk message delivery and direct chat with the customers through system-to-system or app-to-person between decoupled microservice apps. It is used to easily set up, operate, and send notifications from the cloud. It is a messaging service between Application to Application (A2A) and Application to Person (A2Person), and sends notifications in two ways – A2A and A2P. A2P allows many-to-many messaging between microservices, distributed systems, and event-driven serverless applications, allowing you to send messages to customers with SMS texts, email, and push notifications. \n",
    "\n",
    "10. Amazon VPC (Virtual Private Cloud)\n",
    "Another AWS service is Amazon VPC (Virtual Private Cloud) which is an isolated cloud resource, it enables you to set up an isolated section where you can deploy AWS resources at scale in a virtual environment. This service is responsible to control the virtual networking environment such as resource placement, security, and connectivity. Security can be improved by applying rules for outbound and inbound connections. Also, it detects anomalies in the patterns, troubleshoots network connections, prevents data leakage, and handles configuration issues. Using VPC, you get complete access to control the environment, such as choosing IP address, subset creation, and route table arrangement. \n",
    "\n",
    "11. Amazon Auto-Scaling\n",
    "Amazon Auto-Scaling is one of the best services provided by AWS, it examines the applications and adjusts its capacity accordingly which is to maintain predictable performance at the lowest possible cost. It becomes easy to scale up applications for multiple resources across services in seconds. To meet the demands of the business, it scales computing capacity and this can be achieved by adding or removing EC2 instances automatically. There are two types of scaling –  dynamic (presently changing demands) and predictive (response based on predictions) scaling. It can be used with Amazon EC2 Auto Scaling to dynamically scale your Amazon EC2 instances and also it receives the right resource at the right time.\n"
   ]
  },
  {
   "cell_type": "code",
   "execution_count": null,
   "id": "730b0bbb-df80-4040-8c3e-b2e3d424f897",
   "metadata": {},
   "outputs": [],
   "source": []
  }
 ],
 "metadata": {
  "kernelspec": {
   "display_name": "Python 3 (ipykernel)",
   "language": "python",
   "name": "python3"
  },
  "language_info": {
   "codemirror_mode": {
    "name": "ipython",
    "version": 3
   },
   "file_extension": ".py",
   "mimetype": "text/x-python",
   "name": "python",
   "nbconvert_exporter": "python",
   "pygments_lexer": "ipython3",
   "version": "3.10.8"
  }
 },
 "nbformat": 4,
 "nbformat_minor": 5
}
